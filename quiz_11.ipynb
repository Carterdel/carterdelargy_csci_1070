{
 "cells": [
  {
   "cell_type": "markdown",
   "metadata": {},
   "source": [
    "# 1."
   ]
  },
  {
   "cell_type": "code",
   "execution_count": 45,
   "metadata": {},
   "outputs": [
    {
     "data": {
      "text/plain": [
       "['a', 'b']"
      ]
     },
     "execution_count": 45,
     "metadata": {},
     "output_type": "execute_result"
    }
   ],
   "source": [
    "def filter_list(list):\n",
    "    i = 0\n",
    "    filtered_list = []\n",
    "    while i < len(list):\n",
    "        x = list[i]\n",
    "        if isinstance(x, str):\n",
    "            filtered_list.append(x)\n",
    "            i = i+1\n",
    "        else:\n",
    "            i = i+1\n",
    "    return filtered_list\n",
    "\n",
    "list = [1,2,'a','b',7.6]\n",
    "\n",
    "filter_list(list)\n",
    "        "
   ]
  },
  {
   "cell_type": "markdown",
   "metadata": {},
   "source": [
    "# 2."
   ]
  },
  {
   "cell_type": "code",
   "execution_count": 44,
   "metadata": {},
   "outputs": [
    {
     "name": "stdout",
     "output_type": "stream",
     "text": [
      "1\n",
      "2\n",
      "3 fizz\n",
      "4\n",
      "5 buzz\n",
      "6 fizz\n",
      "7\n",
      "8\n",
      "9 fizz\n",
      "10 buzz\n",
      "11\n",
      "12 fizz\n",
      "13\n",
      "14\n",
      "15 fizzbuzz\n"
     ]
    }
   ],
   "source": [
    "def number_returner(number: int = 15) -> str:\n",
    "    '''\n",
    "    This function takes a number and returns numbers counting up to the inputted number. \n",
    "    \n",
    "    '''\n",
    "    x = 1\n",
    "    # while loop that prints the num each time\n",
    "    while x <= number:\n",
    "        # if num is divisible by 3 and 5, prints fizzbuzz after num\n",
    "        if x % 3 == 0 and x % 5 == 0:\n",
    "            print(x,'fizzbuzz')\n",
    "        # if num is divisible by 3, prints fizz after num\n",
    "        elif x % 3 == 0:\n",
    "            print(x,'fizz')\n",
    "        # if num is divisible by 5, prints buzz after num\n",
    "        elif x % 5 == 0:\n",
    "            print(x,'buzz')\n",
    "        # just prints x if it isn't divisible by anything\n",
    "        else:\n",
    "            print(x)\n",
    "        # x goes up by one number\n",
    "        x = x + 1\n",
    "            \n",
    "            \n",
    "number_returner()"
   ]
  },
  {
   "cell_type": "code",
   "execution_count": null,
   "metadata": {},
   "outputs": [],
   "source": []
  }
 ],
 "metadata": {
  "kernelspec": {
   "display_name": "Python 3",
   "language": "python",
   "name": "python3"
  },
  "language_info": {
   "codemirror_mode": {
    "name": "ipython",
    "version": 3
   },
   "file_extension": ".py",
   "mimetype": "text/x-python",
   "name": "python",
   "nbconvert_exporter": "python",
   "pygments_lexer": "ipython3",
   "version": "3.10.11"
  }
 },
 "nbformat": 4,
 "nbformat_minor": 2
}
