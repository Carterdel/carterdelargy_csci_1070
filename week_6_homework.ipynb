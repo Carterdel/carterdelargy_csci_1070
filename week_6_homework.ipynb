{
 "cells": [
  {
   "cell_type": "code",
   "execution_count": 81,
   "id": "68f053b0-8af0-4b96-9842-027d96b151df",
   "metadata": {},
   "outputs": [],
   "source": [
    "import pandas as pd\n",
    "import numpy as np\n",
    "import matplotlib.pyplot as plt\n",
    "import seaborn as sns\n",
    "\n",
    "credit_df = pd.read_csv('Credit_card.csv')"
   ]
  },
  {
   "cell_type": "code",
   "execution_count": 82,
   "id": "5e8719cb-23f8-499a-8eb8-a4d6f2345ccd",
   "metadata": {},
   "outputs": [
    {
     "data": {
      "text/html": [
       "<div>\n",
       "<style scoped>\n",
       "    .dataframe tbody tr th:only-of-type {\n",
       "        vertical-align: middle;\n",
       "    }\n",
       "\n",
       "    .dataframe tbody tr th {\n",
       "        vertical-align: top;\n",
       "    }\n",
       "\n",
       "    .dataframe thead th {\n",
       "        text-align: right;\n",
       "    }\n",
       "</style>\n",
       "<table border=\"1\" class=\"dataframe\">\n",
       "  <thead>\n",
       "    <tr style=\"text-align: right;\">\n",
       "      <th></th>\n",
       "      <th>Ind_ID</th>\n",
       "      <th>GENDER</th>\n",
       "      <th>Car_Owner</th>\n",
       "      <th>Propert_Owner</th>\n",
       "      <th>CHILDREN</th>\n",
       "      <th>Annual_income</th>\n",
       "      <th>Type_Income</th>\n",
       "      <th>EDUCATION</th>\n",
       "      <th>Marital_status</th>\n",
       "      <th>Housing_type</th>\n",
       "      <th>Birthday_count</th>\n",
       "      <th>Employed_days</th>\n",
       "      <th>Mobile_phone</th>\n",
       "      <th>Work_Phone</th>\n",
       "      <th>Phone</th>\n",
       "      <th>EMAIL_ID</th>\n",
       "      <th>Type_Occupation</th>\n",
       "      <th>Family_Members</th>\n",
       "    </tr>\n",
       "  </thead>\n",
       "  <tbody>\n",
       "    <tr>\n",
       "      <th>0</th>\n",
       "      <td>5008827</td>\n",
       "      <td>M</td>\n",
       "      <td>Y</td>\n",
       "      <td>Y</td>\n",
       "      <td>0</td>\n",
       "      <td>180000.0</td>\n",
       "      <td>Pensioner</td>\n",
       "      <td>Higher education</td>\n",
       "      <td>Married</td>\n",
       "      <td>House / apartment</td>\n",
       "      <td>-18772.0</td>\n",
       "      <td>365243</td>\n",
       "      <td>1</td>\n",
       "      <td>0</td>\n",
       "      <td>0</td>\n",
       "      <td>0</td>\n",
       "      <td>NaN</td>\n",
       "      <td>2</td>\n",
       "    </tr>\n",
       "    <tr>\n",
       "      <th>1</th>\n",
       "      <td>5009744</td>\n",
       "      <td>F</td>\n",
       "      <td>Y</td>\n",
       "      <td>N</td>\n",
       "      <td>0</td>\n",
       "      <td>315000.0</td>\n",
       "      <td>Commercial associate</td>\n",
       "      <td>Higher education</td>\n",
       "      <td>Married</td>\n",
       "      <td>House / apartment</td>\n",
       "      <td>-13557.0</td>\n",
       "      <td>-586</td>\n",
       "      <td>1</td>\n",
       "      <td>1</td>\n",
       "      <td>1</td>\n",
       "      <td>0</td>\n",
       "      <td>NaN</td>\n",
       "      <td>2</td>\n",
       "    </tr>\n",
       "    <tr>\n",
       "      <th>2</th>\n",
       "      <td>5009746</td>\n",
       "      <td>F</td>\n",
       "      <td>Y</td>\n",
       "      <td>N</td>\n",
       "      <td>0</td>\n",
       "      <td>315000.0</td>\n",
       "      <td>Commercial associate</td>\n",
       "      <td>Higher education</td>\n",
       "      <td>Married</td>\n",
       "      <td>House / apartment</td>\n",
       "      <td>NaN</td>\n",
       "      <td>-586</td>\n",
       "      <td>1</td>\n",
       "      <td>1</td>\n",
       "      <td>1</td>\n",
       "      <td>0</td>\n",
       "      <td>NaN</td>\n",
       "      <td>2</td>\n",
       "    </tr>\n",
       "    <tr>\n",
       "      <th>3</th>\n",
       "      <td>5009749</td>\n",
       "      <td>F</td>\n",
       "      <td>Y</td>\n",
       "      <td>N</td>\n",
       "      <td>0</td>\n",
       "      <td>NaN</td>\n",
       "      <td>Commercial associate</td>\n",
       "      <td>Higher education</td>\n",
       "      <td>Married</td>\n",
       "      <td>House / apartment</td>\n",
       "      <td>-13557.0</td>\n",
       "      <td>-586</td>\n",
       "      <td>1</td>\n",
       "      <td>1</td>\n",
       "      <td>1</td>\n",
       "      <td>0</td>\n",
       "      <td>NaN</td>\n",
       "      <td>2</td>\n",
       "    </tr>\n",
       "    <tr>\n",
       "      <th>4</th>\n",
       "      <td>5009752</td>\n",
       "      <td>F</td>\n",
       "      <td>Y</td>\n",
       "      <td>N</td>\n",
       "      <td>0</td>\n",
       "      <td>315000.0</td>\n",
       "      <td>Commercial associate</td>\n",
       "      <td>Higher education</td>\n",
       "      <td>Married</td>\n",
       "      <td>House / apartment</td>\n",
       "      <td>-13557.0</td>\n",
       "      <td>-586</td>\n",
       "      <td>1</td>\n",
       "      <td>1</td>\n",
       "      <td>1</td>\n",
       "      <td>0</td>\n",
       "      <td>NaN</td>\n",
       "      <td>2</td>\n",
       "    </tr>\n",
       "    <tr>\n",
       "      <th>...</th>\n",
       "      <td>...</td>\n",
       "      <td>...</td>\n",
       "      <td>...</td>\n",
       "      <td>...</td>\n",
       "      <td>...</td>\n",
       "      <td>...</td>\n",
       "      <td>...</td>\n",
       "      <td>...</td>\n",
       "      <td>...</td>\n",
       "      <td>...</td>\n",
       "      <td>...</td>\n",
       "      <td>...</td>\n",
       "      <td>...</td>\n",
       "      <td>...</td>\n",
       "      <td>...</td>\n",
       "      <td>...</td>\n",
       "      <td>...</td>\n",
       "      <td>...</td>\n",
       "    </tr>\n",
       "    <tr>\n",
       "      <th>1543</th>\n",
       "      <td>5028645</td>\n",
       "      <td>F</td>\n",
       "      <td>N</td>\n",
       "      <td>Y</td>\n",
       "      <td>0</td>\n",
       "      <td>NaN</td>\n",
       "      <td>Commercial associate</td>\n",
       "      <td>Higher education</td>\n",
       "      <td>Married</td>\n",
       "      <td>House / apartment</td>\n",
       "      <td>-11957.0</td>\n",
       "      <td>-2182</td>\n",
       "      <td>1</td>\n",
       "      <td>0</td>\n",
       "      <td>0</td>\n",
       "      <td>0</td>\n",
       "      <td>Managers</td>\n",
       "      <td>2</td>\n",
       "    </tr>\n",
       "    <tr>\n",
       "      <th>1544</th>\n",
       "      <td>5023655</td>\n",
       "      <td>F</td>\n",
       "      <td>N</td>\n",
       "      <td>N</td>\n",
       "      <td>0</td>\n",
       "      <td>225000.0</td>\n",
       "      <td>Commercial associate</td>\n",
       "      <td>Incomplete higher</td>\n",
       "      <td>Single / not married</td>\n",
       "      <td>House / apartment</td>\n",
       "      <td>-10229.0</td>\n",
       "      <td>-1209</td>\n",
       "      <td>1</td>\n",
       "      <td>0</td>\n",
       "      <td>0</td>\n",
       "      <td>0</td>\n",
       "      <td>Accountants</td>\n",
       "      <td>1</td>\n",
       "    </tr>\n",
       "    <tr>\n",
       "      <th>1545</th>\n",
       "      <td>5115992</td>\n",
       "      <td>M</td>\n",
       "      <td>Y</td>\n",
       "      <td>Y</td>\n",
       "      <td>2</td>\n",
       "      <td>180000.0</td>\n",
       "      <td>Working</td>\n",
       "      <td>Higher education</td>\n",
       "      <td>Married</td>\n",
       "      <td>House / apartment</td>\n",
       "      <td>-13174.0</td>\n",
       "      <td>-2477</td>\n",
       "      <td>1</td>\n",
       "      <td>0</td>\n",
       "      <td>0</td>\n",
       "      <td>0</td>\n",
       "      <td>Managers</td>\n",
       "      <td>4</td>\n",
       "    </tr>\n",
       "    <tr>\n",
       "      <th>1546</th>\n",
       "      <td>5118219</td>\n",
       "      <td>M</td>\n",
       "      <td>Y</td>\n",
       "      <td>N</td>\n",
       "      <td>0</td>\n",
       "      <td>270000.0</td>\n",
       "      <td>Working</td>\n",
       "      <td>Secondary / secondary special</td>\n",
       "      <td>Civil marriage</td>\n",
       "      <td>House / apartment</td>\n",
       "      <td>-15292.0</td>\n",
       "      <td>-645</td>\n",
       "      <td>1</td>\n",
       "      <td>1</td>\n",
       "      <td>1</td>\n",
       "      <td>0</td>\n",
       "      <td>Drivers</td>\n",
       "      <td>2</td>\n",
       "    </tr>\n",
       "    <tr>\n",
       "      <th>1547</th>\n",
       "      <td>5053790</td>\n",
       "      <td>F</td>\n",
       "      <td>Y</td>\n",
       "      <td>Y</td>\n",
       "      <td>0</td>\n",
       "      <td>225000.0</td>\n",
       "      <td>Working</td>\n",
       "      <td>Higher education</td>\n",
       "      <td>Married</td>\n",
       "      <td>House / apartment</td>\n",
       "      <td>-16601.0</td>\n",
       "      <td>-2859</td>\n",
       "      <td>1</td>\n",
       "      <td>0</td>\n",
       "      <td>0</td>\n",
       "      <td>0</td>\n",
       "      <td>NaN</td>\n",
       "      <td>2</td>\n",
       "    </tr>\n",
       "  </tbody>\n",
       "</table>\n",
       "<p>1548 rows × 18 columns</p>\n",
       "</div>"
      ],
      "text/plain": [
       "       Ind_ID GENDER Car_Owner Propert_Owner  CHILDREN  Annual_income  \\\n",
       "0     5008827      M         Y             Y         0       180000.0   \n",
       "1     5009744      F         Y             N         0       315000.0   \n",
       "2     5009746      F         Y             N         0       315000.0   \n",
       "3     5009749      F         Y             N         0            NaN   \n",
       "4     5009752      F         Y             N         0       315000.0   \n",
       "...       ...    ...       ...           ...       ...            ...   \n",
       "1543  5028645      F         N             Y         0            NaN   \n",
       "1544  5023655      F         N             N         0       225000.0   \n",
       "1545  5115992      M         Y             Y         2       180000.0   \n",
       "1546  5118219      M         Y             N         0       270000.0   \n",
       "1547  5053790      F         Y             Y         0       225000.0   \n",
       "\n",
       "               Type_Income                      EDUCATION  \\\n",
       "0                Pensioner               Higher education   \n",
       "1     Commercial associate               Higher education   \n",
       "2     Commercial associate               Higher education   \n",
       "3     Commercial associate               Higher education   \n",
       "4     Commercial associate               Higher education   \n",
       "...                    ...                            ...   \n",
       "1543  Commercial associate               Higher education   \n",
       "1544  Commercial associate              Incomplete higher   \n",
       "1545               Working               Higher education   \n",
       "1546               Working  Secondary / secondary special   \n",
       "1547               Working               Higher education   \n",
       "\n",
       "            Marital_status       Housing_type  Birthday_count  Employed_days  \\\n",
       "0                  Married  House / apartment        -18772.0         365243   \n",
       "1                  Married  House / apartment        -13557.0           -586   \n",
       "2                  Married  House / apartment             NaN           -586   \n",
       "3                  Married  House / apartment        -13557.0           -586   \n",
       "4                  Married  House / apartment        -13557.0           -586   \n",
       "...                    ...                ...             ...            ...   \n",
       "1543               Married  House / apartment        -11957.0          -2182   \n",
       "1544  Single / not married  House / apartment        -10229.0          -1209   \n",
       "1545               Married  House / apartment        -13174.0          -2477   \n",
       "1546        Civil marriage  House / apartment        -15292.0           -645   \n",
       "1547               Married  House / apartment        -16601.0          -2859   \n",
       "\n",
       "      Mobile_phone  Work_Phone  Phone  EMAIL_ID Type_Occupation  \\\n",
       "0                1           0      0         0             NaN   \n",
       "1                1           1      1         0             NaN   \n",
       "2                1           1      1         0             NaN   \n",
       "3                1           1      1         0             NaN   \n",
       "4                1           1      1         0             NaN   \n",
       "...            ...         ...    ...       ...             ...   \n",
       "1543             1           0      0         0        Managers   \n",
       "1544             1           0      0         0     Accountants   \n",
       "1545             1           0      0         0        Managers   \n",
       "1546             1           1      1         0         Drivers   \n",
       "1547             1           0      0         0             NaN   \n",
       "\n",
       "      Family_Members  \n",
       "0                  2  \n",
       "1                  2  \n",
       "2                  2  \n",
       "3                  2  \n",
       "4                  2  \n",
       "...              ...  \n",
       "1543               2  \n",
       "1544               1  \n",
       "1545               4  \n",
       "1546               2  \n",
       "1547               2  \n",
       "\n",
       "[1548 rows x 18 columns]"
      ]
     },
     "execution_count": 82,
     "metadata": {},
     "output_type": "execute_result"
    }
   ],
   "source": [
    "credit_df"
   ]
  },
  {
   "cell_type": "markdown",
   "id": "5989136f-4668-4316-bc1a-da0a42181095",
   "metadata": {},
   "source": [
    "# 1: Cleaning dataset (I used a lot of mapping)"
   ]
  },
  {
   "cell_type": "code",
   "execution_count": 83,
   "id": "f24bac30-25ca-48cd-8362-7fcedeede003",
   "metadata": {},
   "outputs": [],
   "source": [
    "def standardize():\n",
    "    credit_df['GENDER'] = credit_df['GENDER'].map({'M':0, 'F':1})\n",
    "    credit_df['Car_Owner'] = credit_df['Car_Owner'].map({'Y':1, 'N':0})\n",
    "    credit_df['Propert_Owner'] = credit_df['Propert_Owner'].map({'Y':1, 'N':0})\n",
    "    credit_df['Type_Income'] = credit_df['Type_Income'].map({'Working':1, 'Commercial associate':2,\n",
    "                                                         'Pensioner':3, 'State servant':4})\n",
    "    credit_df['EDUCATION'] = credit_df['EDUCATION'].map({'Academic degree':1,'Incomplete higher':2,\n",
    "                                                     'Lower secondary':3,'Secondary / secondary special':4,\n",
    "                                                     'Higher education':5})\n",
    "    credit_df['Marital_status'] = credit_df['Marital_status'].map({'Married':1, 'Single / not married':2,\n",
    "                                                               'Civil marriage':3,'Separated':4,\n",
    "                                                               'Widow':5})\n",
    "    credit_df['Housing_type'] = credit_df['Housing_type'].map({'House / apartment':1, 'With parents':2,\n",
    "                                                           'Rented apartment':3,'Municipal apartment':4,\n",
    "                                                           'Co-op apartment':5,'Office apartment':6})\n",
    "    credit_df['Type_Occupation'] = credit_df['Type_Occupation'].map({'Core staff':1,'Cooking staff':2,\n",
    "                                                                'Laborers':3,'Sales staff':4,'Accountants':5,\n",
    "                                                                 'High skill tech staff':6,'Managers':7,\n",
    "                                                                'Cleaning staff':8,'Drivers':9,\n",
    "                                                                'Low-skill laborers':10,'IT staff':11,\n",
    "                                                                'Waiters/barmen staff':12,'Security staff':13,\n",
    "                                                                'Medicine staff':14,'Private service staff':15,\n",
    "                                                                'HR staff':16,'Secretaries':17,'Realty agents':18})\n",
    "    credit_df['Birthday_count'] = credit_df['Birthday_count'].div(-365)\n",
    "    credit_df['Birthday_count'] = credit_df['Birthday_count'].round(2)\n",
    "\n",
    "    credit_df['Employed_days'] = credit_df['Employed_days'].replace(365243,0)\n",
    "    credit_df['Employed_days'] = credit_df['Employed_days']*(-1)\n",
    "\n",
    "    credit_df['Annual_income'] = credit_df['Annual_income'].fillna(credit_df['Annual_income'].median())\n",
    "    # 0 means unemployed\n",
    "    # credit_df['Birthday_count'].fillna(0)"
   ]
  },
  {
   "cell_type": "code",
   "execution_count": 84,
   "id": "3a612534-c643-411b-87d6-bd01c213d510",
   "metadata": {},
   "outputs": [],
   "source": [
    "# def one_hot_encoding():\n",
    "#     credit_df = pd.read_csv('Credit_card.csv')\n",
    "#     credit_df_gender = pd.get_dummies(credit_df['GENDER'])\n",
    "#     # credit_df = pd.get_dummies(credit_df, columns = ['GENDER', 'Car_Owner', 'Propert_Owner', 'Type_Income', 'EDUCATION',\n",
    "#                                          # 'Marital_status', 'Housing_type', 'Type_Occupation'])\n",
    "#     credit_df['Birthday_count'] = credit_df['Birthday_count'].div(-365)\n",
    "#     credit_df['Birthday_count'] = credit_df['Birthday_count'].round(2)\n",
    "\n",
    "#     credit_df['Employed_days'] = credit_df['Employed_days'].replace(365243,0)\n",
    "#     credit_df['Employed_days'] = credit_df['Employed_days']*(-1)\n",
    "\n",
    "#     # credit_df['Annual_income'] = credit_df['Annual_income'].fillna(credit_df['Annual_income'].median())\n",
    "#     print(credit_df)"
   ]
  },
  {
   "cell_type": "code",
   "execution_count": 85,
   "id": "165dc35b-16fc-4ab5-9e81-56bde7203862",
   "metadata": {},
   "outputs": [],
   "source": [
    "# credit_df = pd.read_csv('Credit_card.csv')\n",
    "# credit_df_gender = pd.get_dummies(credit_df['GENDER'])\n",
    "# # credit_df = pd.get_dummies(credit_df, columns = ['GENDER', 'Car_Owner', 'Propert_Owner', 'Type_Income', 'EDUCATION',\n",
    "#                                                 # 'Marital_status', 'Housing_type', 'Type_Occupation'])\n",
    "# credit_df['Birthday_count'] = credit_df['Birthday_count'].div(-365)\n",
    "# credit_df['Birthday_count'] = credit_df['Birthday_count'].round(2)\n",
    "\n",
    "# credit_df['Employed_days'] = credit_df['Employed_days'].replace(365243,0)\n",
    "# credit_df['Employed_days'] = credit_df['Employed_days']*(-1)\n",
    "\n",
    "# credit_df['Annual_income'] = credit_df['Annual_income'].fillna(credit_df['Annual_income'].median())\n",
    "# print(credit_df_gender.columns)"
   ]
  },
  {
   "cell_type": "code",
   "execution_count": 86,
   "id": "1e8eb356-29ba-498c-a58e-580aa135e979",
   "metadata": {},
   "outputs": [],
   "source": [
    "standardize()"
   ]
  },
  {
   "cell_type": "markdown",
   "id": "5b5bbbe8-22a9-401c-bfe1-78ac10ca10c0",
   "metadata": {},
   "source": [
    "# 2. Linear Regression"
   ]
  },
  {
   "cell_type": "code",
   "execution_count": null,
   "id": "41439d4e-bcc0-4894-a514-f87900fa8764",
   "metadata": {},
   "outputs": [],
   "source": []
  },
  {
   "cell_type": "code",
   "execution_count": 87,
   "id": "c735bead-cb2f-49aa-8de9-2ade7946a9c5",
   "metadata": {},
   "outputs": [],
   "source": [
    "from sklearn.model_selection import train_test_split\n",
    "from sklearn.linear_model import LinearRegression\n",
    "\n",
    "# credit_df_linreg = credit_df[['EDUCATION','Annual_income']]\n",
    "# X = np.array(credit_df['Annual_income']).reshape(-1,1)\n",
    "# y = np.array(credit_df['EDUCATION']).reshape(-1,1)\n",
    "\n",
    "# X_train, X_test, y_train, y_test = train_test_split(X, y, test_size=0.3, random_state=13)\n",
    "# regression_model = LinearRegression()\n",
    "# regression_model.fit(X_train, y_train)\n",
    "# y_pred = regression_model.predict(X_test)\n",
    "# accuracy_score = regression_model.score(X_test, y_test)\n",
    "# print(accuracy_score)"
   ]
  },
  {
   "cell_type": "code",
   "execution_count": 114,
   "id": "689fb1dc-9e6d-4b4d-a58a-e719db7f6220",
   "metadata": {},
   "outputs": [],
   "source": [
    "def linear_regression(X_column: str, y_column: str) -> str:\n",
    "    X = np.array(X_column).reshape(-1,1)\n",
    "    y = np.array(y_column).reshape(-1,1)\n",
    "\n",
    "    X_train, X_test, y_train, y_test = train_test_split(X, y, test_size=0.3, random_state=13)\n",
    "    regression_model = LinearRegression()\n",
    "    regression_model.fit(X_train, y_train)\n",
    "    y_pred = regression_model.predict(X_test)\n",
    "    accuracy_score = regression_model.score(X_test, y_test)\n",
    "    print('Accuracy Score:', accuracy_score)\n",
    "    plt.scatter(X_test, y_test, color = 'r')\n",
    "    plt.plot(X_test, y_pred, color = 'b')"
   ]
  },
  {
   "cell_type": "code",
   "execution_count": 115,
   "id": "1a1a5963-d9cf-4591-863e-1008d650932a",
   "metadata": {},
   "outputs": [
    {
     "name": "stdout",
     "output_type": "stream",
     "text": [
      "Accuracy Score: 0.028338466057532874\n"
     ]
    },
    {
     "data": {
      "image/png": "[encoded data removed]",
      "text/plain": [
       "<Figure size 640x480 with 1 Axes>"
      ]
     },
     "metadata": {},
     "output_type": "display_data"
    }
   ],
   "source": [
    "linear_regression(credit_df['Annual_income'], credit_df['EDUCATION'])"
   ]
  },
  {
   "cell_type": "markdown",
   "id": "ac0014ef-6c39-4846-acbb-c4836a7787fa",
   "metadata": {},
   "source": [
    "This did not perform well at all. You would think that annual income could rely on the type of education that a person has, but this dataset had a just under 3% accuracy score. This isn't the best approach for this dataset because it's so low.\n",
    "\n",
    "I'm also getting low results for other items too. This isn't a good approach for this dataset. That's because the whole goal is to predict if people are being approved or denied for a credit card. That uses the approval ('label') column, which we could easily use logistic regression on."
   ]
  },
  {
   "cell_type": "markdown",
   "id": "71445c83-ba3f-4c9e-a629-a6d4ce859b0c",
   "metadata": {},
   "source": [
    "# 3. KNN"
   ]
  },
  {
   "cell_type": "code",
   "execution_count": 90,
   "id": "cebce81c-3798-4789-ac22-4a2a9a4380e4",
   "metadata": {},
   "outputs": [],
   "source": [
    "from sklearn.neighbors import KNeighborsClassifier\n",
    "from sklearn.preprocessing import StandardScaler\n",
    "\n",
    "# boxplot = credit_df.boxplot(column = ['Birthday_count'], return_type='axes')"
   ]
  },
  {
   "cell_type": "code",
   "execution_count": 91,
   "id": "4af6cb1e-287f-455b-90e1-47a9a09cb500",
   "metadata": {},
   "outputs": [],
   "source": [
    "# credit_card_approval_df = np.where((credit_df['Birthday_count'] > 18) & (credit_df['Employed_days'] > 180), 1, 0)\n",
    "# credit_card_approval_df = pd.DataFrame(credit_card_approval_df)\n",
    "# credit_card_approval_df['Approval'] = credit_card_approval_df[0]\n",
    "# credit_df = pd.concat([credit_df, credit_card_approval_df], axis=1)\n",
    "\n",
    "\n",
    "# Originally, I had missed the credit_card_labels csv and had made my own column with general guidelines\n",
    "# I realized this after I did the following KNN and Linear Regression models, so I fixed it later\n",
    "\n",
    "credit_card_labels = pd.read_csv('credit_card_label.csv')\n",
    "credit_df = pd.merge(credit_df, credit_card_labels, on=\"Ind_ID\")"
   ]
  },
  {
   "cell_type": "code",
   "execution_count": null,
   "id": "5ec01cf3-906c-4e29-ab5b-6b98cd07a1c1",
   "metadata": {},
   "outputs": [],
   "source": []
  },
  {
   "cell_type": "code",
   "execution_count": 92,
   "id": "12f3a071-2235-470f-992e-f4734410eb5d",
   "metadata": {},
   "outputs": [],
   "source": [
    "# Fill NaN values\n",
    "credit_df.fillna(0, inplace=True)"
   ]
  },
  {
   "cell_type": "code",
   "execution_count": 93,
   "id": "b481ce8c-32d4-4eda-9893-3a31c44f6420",
   "metadata": {},
   "outputs": [],
   "source": [
    "# credit_df.columns = credit_df.columns.astype(str)\n",
    "\n",
    "# X = credit_df.drop('label', axis=1)\n",
    "# y = credit_df['label']\n",
    "\n",
    "# X_train, X_test, y_train, y_test = train_test_split(X, y, test_size = 0.3, random_state = 13)\n",
    "\n",
    "# sc = StandardScaler()\n",
    "# X_train = sc.fit_transform(X_train)\n",
    "# X_test = sc.fit_transform(X_test)\n",
    "# knn = KNeighborsClassifier(n_neighbors=4)\n",
    "# knn.fit(X_train, y_train)\n",
    "# print(knn.score(X_test, y_test))"
   ]
  },
  {
   "cell_type": "code",
   "execution_count": 94,
   "id": "dfa1d842-e20f-4afb-9b02-16c07058e528",
   "metadata": {},
   "outputs": [],
   "source": [
    "# def knn_setup(target_df: str, target_column: str):\n",
    "#     credit_df.columns = credit_df.columns.astype(str)\n",
    "#     X = target_df.drop(target_column, axis=1)\n",
    "#     y = target_df[target_column]\n",
    "\n",
    "#     X_train, X_test, y_train, y_test = train_test_split(X, y, test_size = 0.3, random_state = 13)\n",
    "\n",
    "#     sc = StandardScaler()\n",
    "#     X_train = sc.fit_transform(X_train)\n",
    "#     X_test = sc.fit_transform(X_test)\n",
    "    "
   ]
  },
  {
   "cell_type": "code",
   "execution_count": 95,
   "id": "48af1696-0e8b-4588-841a-85fd8eaf7f6b",
   "metadata": {},
   "outputs": [],
   "source": [
    "# def knn_optimal_val(knn_max_val: int):\n",
    "#     from sklearn.metrics import confusion_matrix, ConfusionMatrixDisplay\n",
    "#     knn_list = []\n",
    "#     knn_val = 1\n",
    "#     while knn_val <= knn_max_val:\n",
    "#         knn = KNeighborsClassifier(n_neighbors=knn_val)\n",
    "#         knn.fit(X_train, y_train)\n",
    "#         knn_list.append(knn.score(X_test, y_test))\n",
    "#         knn_val = knn_val + 1\n",
    "#     # print(knn_list)\n",
    "#     knn_max = (max(knn_list))\n",
    "#     knn_val_in_list = (knn_list.index(knn_max))\n",
    "#     print(knn_max)\n",
    "#     print(knn_val_in_list + 1)\n",
    "    \n",
    "    "
   ]
  },
  {
   "cell_type": "code",
   "execution_count": 116,
   "id": "5953f34d-6de2-46ec-9188-59f63e066bea",
   "metadata": {},
   "outputs": [],
   "source": [
    "def knn_test_all(target_df: str, target_column: str, knn_max_val: int) -> str:\n",
    "    from sklearn.metrics import confusion_matrix, ConfusionMatrixDisplay\n",
    "    credit_df.columns = credit_df.columns.astype(str)\n",
    "    X = target_df.drop(target_column, axis=1)\n",
    "    y = target_df[target_column]\n",
    "\n",
    "    X_train, X_test, y_train, y_test = train_test_split(X, y, test_size = 0.3, random_state = 13)\n",
    "\n",
    "    sc = StandardScaler()\n",
    "    X_train = sc.fit_transform(X_train)\n",
    "    X_test = sc.fit_transform(X_test)\n",
    "\n",
    "    # looks for max\n",
    "    knn_list = []\n",
    "    knn_val = 1\n",
    "    while knn_val <= knn_max_val:\n",
    "        knn = KNeighborsClassifier(n_neighbors=knn_val)\n",
    "        knn.fit(X_train, y_train)\n",
    "        knn_list.append(knn.score(X_test, y_test))\n",
    "        knn_val = knn_val + 1\n",
    "    # print(knn_list)\n",
    "    knn_max = (max(knn_list))\n",
    "    knn_val_in_list = (knn_list.index(knn_max))\n",
    "    print('Highest Score:', knn_max)\n",
    "    print('KNN Value Used:', knn_val_in_list + 1)\n",
    "    y_pred = knn.predict(X_test)\n",
    "    ConfusionMatrixDisplay.from_estimator(knn, X_test, y_test)\n",
    "\n",
    "def precision_and_recall(calc_type: str, tp: int, tn: int,\n",
    "                                fp: int, fn: int) -> float:\n",
    "    if calc_type == \"precision\":\n",
    "        value = tp / (tp + fp)\n",
    "        return value\n",
    "    elif calc_type == \"recall\":\n",
    "        value = tp / (tp + fn)\n",
    "        return value\n",
    "    elif calc_type == \"accuracy\":\n",
    "        value = (tp + tn) / (tp+tn+fp+fn)\n",
    "        return value"
   ]
  },
  {
   "cell_type": "code",
   "execution_count": 97,
   "id": "ac0cccf5-b5de-431b-8ada-7c56e18de1f8",
   "metadata": {},
   "outputs": [],
   "source": [
    "# knn_setup(credit_df, 'label')"
   ]
  },
  {
   "cell_type": "code",
   "execution_count": 117,
   "id": "eec9b157-53a0-474e-9c31-d9013574ba76",
   "metadata": {},
   "outputs": [
    {
     "name": "stdout",
     "output_type": "stream",
     "text": [
      "Highest Score: 0.8924731182795699\n",
      "KNN Value Used: 2\n"
     ]
    },
    {
     "data": {
      "image/png": "[encoded data removed]",
      "text/plain": [
       "<Figure size 640x480 with 2 Axes>"
      ]
     },
     "metadata": {},
     "output_type": "display_data"
    }
   ],
   "source": [
    "knn_test_all(credit_df, 'label', 30)\n",
    "# This function puts all of the knn values into a list from 1 to the max you put in\n",
    "# It then finds the max of the list, and what knn value that was, and prints it\n",
    "# This shows the maximum knn value for this df is 2."
   ]
  },
  {
   "cell_type": "code",
   "execution_count": 110,
   "id": "4edba347-7ea6-4181-b381-5e3372fbad09",
   "metadata": {},
   "outputs": [
    {
     "data": {
      "text/plain": [
       "1.0"
      ]
     },
     "execution_count": 110,
     "metadata": {},
     "output_type": "execute_result"
    }
   ],
   "source": [
    "precision_and_recall(\"precision\", 409, 0, 0, 56)"
   ]
  },
  {
   "cell_type": "code",
   "execution_count": 109,
   "id": "4089fdd0-28cc-4d01-a06b-bc9196cbd4ac",
   "metadata": {},
   "outputs": [
    {
     "data": {
      "text/plain": [
       "0.8795698924731182"
      ]
     },
     "execution_count": 109,
     "metadata": {},
     "output_type": "execute_result"
    }
   ],
   "source": [
    "precision_and_recall(\"recall\", 409, 0, 0, 56)"
   ]
  },
  {
   "cell_type": "code",
   "execution_count": 101,
   "id": "00773c7d-101e-42fe-88d6-9f930622e373",
   "metadata": {},
   "outputs": [
    {
     "data": {
      "text/plain": [
       "0.8795698924731182"
      ]
     },
     "execution_count": 101,
     "metadata": {},
     "output_type": "execute_result"
    }
   ],
   "source": [
    "precision_and_recall(\"accuracy\", 409, 0, 0, 56)"
   ]
  },
  {
   "cell_type": "markdown",
   "id": "2ea3ae12-8dd6-41b1-86fb-c8493b438226",
   "metadata": {},
   "source": [
    "The model performs very well, with a score just below 90."
   ]
  },
  {
   "cell_type": "markdown",
   "id": "610b9fea-1a2b-4f01-8e66-0978136f002b",
   "metadata": {},
   "source": [
    "# 4. Logistical Regression"
   ]
  },
  {
   "cell_type": "code",
   "execution_count": 118,
   "id": "743ffba8-49fd-4b6c-b645-1f4914b96797",
   "metadata": {},
   "outputs": [],
   "source": [
    "def logistical_regression(linreg_df: str, linreg_column: str, mosaic_y_or_n:str, matrix_y_or_n:str) -> str:\n",
    "    from sklearn.linear_model import LogisticRegression\n",
    "    from sklearn.preprocessing import StandardScaler\n",
    "    from sklearn.model_selection import train_test_split\n",
    "    from sklearn.metrics import confusion_matrix\n",
    "    from statsmodels.graphics.mosaicplot import mosaic\n",
    "    from sklearn.metrics import ConfusionMatrixDisplay\n",
    "    X = linreg_df.drop(linreg_column, axis=1)\n",
    "    y = linreg_df[linreg_column]\n",
    "    \n",
    "    X_train, X_test, y_train, y_test = train_test_split(X, y, test_size = 0.2,\n",
    "    random_state=13, stratify=y)\n",
    "    \n",
    "    sc = StandardScaler()\n",
    "    \n",
    "    X_train = sc.fit_transform(X_train)\n",
    "    X_test = sc.fit_transform(X_test)\n",
    "    \n",
    "    regression = LogisticRegression(random_state=13, class_weight='balanced').fit(X_train, y_train)\n",
    "    y_predicted = regression.predict(X_test)\n",
    "    print('Regression Score:', regression.score(X_test, y_test))\n",
    "    if mosaic_y_or_n == 'y':\n",
    "        conf_matrix = confusion_matrix(y_test, y_predicted)\n",
    "        mosaic(conf_matrix)\n",
    "    if matrix_y_or_n == 'y':\n",
    "        ConfusionMatrixDisplay.from_estimator(regression, X_test, y_test)\n",
    "\n"
   ]
  },
  {
   "cell_type": "code",
   "execution_count": 119,
   "id": "92c0bf04-7fc5-4606-9235-82f2c0f7c23a",
   "metadata": {},
   "outputs": [
    {
     "name": "stdout",
     "output_type": "stream",
     "text": [
      "Regression Score: 0.6161290322580645\n"
     ]
    },
    {
     "data": {
      "image/png": "[encoded data removed]",
      "text/plain": [
       "<Figure size 640x480 with 3 Axes>"
      ]
     },
     "metadata": {},
     "output_type": "display_data"
    },
    {
     "data": {
      "image/png": "[encoded data removed]",
      "text/plain": [
       "<Figure size 640x480 with 2 Axes>"
      ]
     },
     "metadata": {},
     "output_type": "display_data"
    }
   ],
   "source": [
    "# mosaic_and_matrix(credit_df, 'label', 'y','y')\n",
    "logistical_regression(credit_df, 'label', 'y', 'y')\n"
   ]
  },
  {
   "cell_type": "code",
   "execution_count": 111,
   "id": "f4544d64-6d16-40f7-9b25-6e9b66b39719",
   "metadata": {},
   "outputs": [
    {
     "data": {
      "text/plain": [
       "0.6218181818181818"
      ]
     },
     "execution_count": 111,
     "metadata": {},
     "output_type": "execute_result"
    }
   ],
   "source": [
    "precision_and_recall(\"precision\", 171, 20, 104, 15)"
   ]
  },
  {
   "cell_type": "code",
   "execution_count": 112,
   "id": "c1674963-455d-4024-b5f2-08b4afb205de",
   "metadata": {},
   "outputs": [
    {
     "data": {
      "text/plain": [
       "0.9193548387096774"
      ]
     },
     "execution_count": 112,
     "metadata": {},
     "output_type": "execute_result"
    }
   ],
   "source": [
    "precision_and_recall(\"recall\", 171, 20, 104, 15)"
   ]
  },
  {
   "cell_type": "code",
   "execution_count": 113,
   "id": "291fa129-7484-48ec-9cd4-5144af736a82",
   "metadata": {},
   "outputs": [
    {
     "data": {
      "text/plain": [
       "0.6161290322580645"
      ]
     },
     "execution_count": 113,
     "metadata": {},
     "output_type": "execute_result"
    }
   ],
   "source": [
    "precision_and_recall(\"accuracy\", 171, 20, 104, 15)"
   ]
  },
  {
   "cell_type": "markdown",
   "id": "c17ee75a-1ba5-42b7-acb2-6344d3cd7017",
   "metadata": {},
   "source": [
    "# 5. Normalization"
   ]
  },
  {
   "cell_type": "code",
   "execution_count": 104,
   "id": "193c0c5a-1994-41fb-a561-50365c6816b1",
   "metadata": {},
   "outputs": [
    {
     "data": {
      "text/plain": [
       "Index(['Ind_ID', 'GENDER', 'Car_Owner', 'Propert_Owner', 'CHILDREN',\n",
       "       'Annual_income', 'Type_Income', 'EDUCATION', 'Marital_status',\n",
       "       'Housing_type', 'Birthday_count', 'Employed_days', 'Mobile_phone',\n",
       "       'Work_Phone', 'Phone', 'EMAIL_ID', 'Type_Occupation', 'Family_Members',\n",
       "       'label'],\n",
       "      dtype='object')"
      ]
     },
     "execution_count": 104,
     "metadata": {},
     "output_type": "execute_result"
    }
   ],
   "source": [
    "credit_df.columns"
   ]
  },
  {
   "cell_type": "code",
   "execution_count": 105,
   "id": "c5390e11-0ce4-4048-9e27-5d55e8acd981",
   "metadata": {},
   "outputs": [
    {
     "data": {
      "text/html": [
       "<div>\n",
       "<style scoped>\n",
       "    .dataframe tbody tr th:only-of-type {\n",
       "        vertical-align: middle;\n",
       "    }\n",
       "\n",
       "    .dataframe tbody tr th {\n",
       "        vertical-align: top;\n",
       "    }\n",
       "\n",
       "    .dataframe thead th {\n",
       "        text-align: right;\n",
       "    }\n",
       "</style>\n",
       "<table border=\"1\" class=\"dataframe\">\n",
       "  <thead>\n",
       "    <tr style=\"text-align: right;\">\n",
       "      <th></th>\n",
       "      <th>Ind_ID</th>\n",
       "      <th>GENDER</th>\n",
       "      <th>Car_Owner</th>\n",
       "      <th>Propert_Owner</th>\n",
       "      <th>CHILDREN</th>\n",
       "      <th>Annual_income</th>\n",
       "      <th>Type_Income</th>\n",
       "      <th>EDUCATION</th>\n",
       "      <th>Marital_status</th>\n",
       "      <th>Housing_type</th>\n",
       "      <th>Birthday_count</th>\n",
       "      <th>Employed_days</th>\n",
       "      <th>Mobile_phone</th>\n",
       "      <th>Work_Phone</th>\n",
       "      <th>Phone</th>\n",
       "      <th>EMAIL_ID</th>\n",
       "      <th>Type_Occupation</th>\n",
       "      <th>Family_Members</th>\n",
       "      <th>label</th>\n",
       "    </tr>\n",
       "  </thead>\n",
       "  <tbody>\n",
       "    <tr>\n",
       "      <th>0</th>\n",
       "      <td>-1.680730</td>\n",
       "      <td>-1.300836</td>\n",
       "      <td>1.216869</td>\n",
       "      <td>0.729845</td>\n",
       "      <td>-0.531645</td>\n",
       "      <td>-0.098116</td>\n",
       "      <td>1.221405</td>\n",
       "      <td>1.241267</td>\n",
       "      <td>-0.574148</td>\n",
       "      <td>-0.298377</td>\n",
       "      <td>0.642359</td>\n",
       "      <td>-0.922777</td>\n",
       "      <td>NaN</td>\n",
       "      <td>-0.512487</td>\n",
       "      <td>-0.669390</td>\n",
       "      <td>-0.319029</td>\n",
       "      <td>-0.893765</td>\n",
       "      <td>-0.170453</td>\n",
       "      <td>2.801020</td>\n",
       "    </tr>\n",
       "    <tr>\n",
       "      <th>1</th>\n",
       "      <td>-1.658742</td>\n",
       "      <td>0.768737</td>\n",
       "      <td>1.216869</td>\n",
       "      <td>-1.370155</td>\n",
       "      <td>-0.531645</td>\n",
       "      <td>1.102824</td>\n",
       "      <td>0.196616</td>\n",
       "      <td>1.241267</td>\n",
       "      <td>-0.574148</td>\n",
       "      <td>-0.298377</td>\n",
       "      <td>-0.489706</td>\n",
       "      <td>-0.678865</td>\n",
       "      <td>NaN</td>\n",
       "      <td>1.951270</td>\n",
       "      <td>1.493899</td>\n",
       "      <td>-0.319029</td>\n",
       "      <td>-0.893765</td>\n",
       "      <td>-0.170453</td>\n",
       "      <td>2.801020</td>\n",
       "    </tr>\n",
       "    <tr>\n",
       "      <th>2</th>\n",
       "      <td>-1.658694</td>\n",
       "      <td>0.768737</td>\n",
       "      <td>1.216869</td>\n",
       "      <td>-1.370155</td>\n",
       "      <td>-0.531645</td>\n",
       "      <td>1.102824</td>\n",
       "      <td>0.196616</td>\n",
       "      <td>1.241267</td>\n",
       "      <td>-0.574148</td>\n",
       "      <td>-0.298377</td>\n",
       "      <td>-3.431966</td>\n",
       "      <td>-0.678865</td>\n",
       "      <td>NaN</td>\n",
       "      <td>1.951270</td>\n",
       "      <td>1.493899</td>\n",
       "      <td>-0.319029</td>\n",
       "      <td>-0.893765</td>\n",
       "      <td>-0.170453</td>\n",
       "      <td>2.801020</td>\n",
       "    </tr>\n",
       "    <tr>\n",
       "      <th>3</th>\n",
       "      <td>-1.658622</td>\n",
       "      <td>0.768737</td>\n",
       "      <td>1.216869</td>\n",
       "      <td>-1.370155</td>\n",
       "      <td>-0.531645</td>\n",
       "      <td>-0.218210</td>\n",
       "      <td>0.196616</td>\n",
       "      <td>1.241267</td>\n",
       "      <td>-0.574148</td>\n",
       "      <td>-0.298377</td>\n",
       "      <td>-0.489706</td>\n",
       "      <td>-0.678865</td>\n",
       "      <td>NaN</td>\n",
       "      <td>1.951270</td>\n",
       "      <td>1.493899</td>\n",
       "      <td>-0.319029</td>\n",
       "      <td>-0.893765</td>\n",
       "      <td>-0.170453</td>\n",
       "      <td>2.801020</td>\n",
       "    </tr>\n",
       "    <tr>\n",
       "      <th>4</th>\n",
       "      <td>-1.658550</td>\n",
       "      <td>0.768737</td>\n",
       "      <td>1.216869</td>\n",
       "      <td>-1.370155</td>\n",
       "      <td>-0.531645</td>\n",
       "      <td>1.102824</td>\n",
       "      <td>0.196616</td>\n",
       "      <td>1.241267</td>\n",
       "      <td>-0.574148</td>\n",
       "      <td>-0.298377</td>\n",
       "      <td>-0.489706</td>\n",
       "      <td>-0.678865</td>\n",
       "      <td>NaN</td>\n",
       "      <td>1.951270</td>\n",
       "      <td>1.493899</td>\n",
       "      <td>-0.319029</td>\n",
       "      <td>-0.893765</td>\n",
       "      <td>-0.170453</td>\n",
       "      <td>2.801020</td>\n",
       "    </tr>\n",
       "    <tr>\n",
       "      <th>...</th>\n",
       "      <td>...</td>\n",
       "      <td>...</td>\n",
       "      <td>...</td>\n",
       "      <td>...</td>\n",
       "      <td>...</td>\n",
       "      <td>...</td>\n",
       "      <td>...</td>\n",
       "      <td>...</td>\n",
       "      <td>...</td>\n",
       "      <td>...</td>\n",
       "      <td>...</td>\n",
       "      <td>...</td>\n",
       "      <td>...</td>\n",
       "      <td>...</td>\n",
       "      <td>...</td>\n",
       "      <td>...</td>\n",
       "      <td>...</td>\n",
       "      <td>...</td>\n",
       "      <td>...</td>\n",
       "    </tr>\n",
       "    <tr>\n",
       "      <th>1543</th>\n",
       "      <td>-1.205525</td>\n",
       "      <td>0.768737</td>\n",
       "      <td>-0.821781</td>\n",
       "      <td>0.729845</td>\n",
       "      <td>-0.531645</td>\n",
       "      <td>-0.218210</td>\n",
       "      <td>0.196616</td>\n",
       "      <td>1.241267</td>\n",
       "      <td>-0.574148</td>\n",
       "      <td>-0.298377</td>\n",
       "      <td>-0.836693</td>\n",
       "      <td>-0.014559</td>\n",
       "      <td>NaN</td>\n",
       "      <td>-0.512487</td>\n",
       "      <td>-0.669390</td>\n",
       "      <td>-0.319029</td>\n",
       "      <td>0.829823</td>\n",
       "      <td>-0.170453</td>\n",
       "      <td>-0.357013</td>\n",
       "    </tr>\n",
       "    <tr>\n",
       "      <th>1544</th>\n",
       "      <td>-1.325178</td>\n",
       "      <td>0.768737</td>\n",
       "      <td>-0.821781</td>\n",
       "      <td>-1.370155</td>\n",
       "      <td>-0.531645</td>\n",
       "      <td>0.302197</td>\n",
       "      <td>0.196616</td>\n",
       "      <td>-3.244681</td>\n",
       "      <td>0.299777</td>\n",
       "      <td>-0.298377</td>\n",
       "      <td>-1.212200</td>\n",
       "      <td>-0.419553</td>\n",
       "      <td>NaN</td>\n",
       "      <td>-0.512487</td>\n",
       "      <td>-0.669390</td>\n",
       "      <td>-0.319029</td>\n",
       "      <td>0.337369</td>\n",
       "      <td>-1.225901</td>\n",
       "      <td>-0.357013</td>\n",
       "    </tr>\n",
       "    <tr>\n",
       "      <th>1545</th>\n",
       "      <td>0.888921</td>\n",
       "      <td>-1.300836</td>\n",
       "      <td>1.216869</td>\n",
       "      <td>0.729845</td>\n",
       "      <td>2.044213</td>\n",
       "      <td>-0.098116</td>\n",
       "      <td>-0.828172</td>\n",
       "      <td>1.241267</td>\n",
       "      <td>-0.574148</td>\n",
       "      <td>-0.298377</td>\n",
       "      <td>-0.572888</td>\n",
       "      <td>0.108229</td>\n",
       "      <td>NaN</td>\n",
       "      <td>-0.512487</td>\n",
       "      <td>-0.669390</td>\n",
       "      <td>-0.319029</td>\n",
       "      <td>0.829823</td>\n",
       "      <td>1.940442</td>\n",
       "      <td>-0.357013</td>\n",
       "    </tr>\n",
       "    <tr>\n",
       "      <th>1546</th>\n",
       "      <td>0.942321</td>\n",
       "      <td>-1.300836</td>\n",
       "      <td>1.216869</td>\n",
       "      <td>-1.370155</td>\n",
       "      <td>-0.531645</td>\n",
       "      <td>0.702511</td>\n",
       "      <td>-0.828172</td>\n",
       "      <td>-0.254049</td>\n",
       "      <td>1.173702</td>\n",
       "      <td>-0.298377</td>\n",
       "      <td>-0.112615</td>\n",
       "      <td>-0.654307</td>\n",
       "      <td>NaN</td>\n",
       "      <td>1.951270</td>\n",
       "      <td>1.493899</td>\n",
       "      <td>-0.319029</td>\n",
       "      <td>1.322276</td>\n",
       "      <td>-0.170453</td>\n",
       "      <td>-0.357013</td>\n",
       "    </tr>\n",
       "    <tr>\n",
       "      <th>1547</th>\n",
       "      <td>-0.602587</td>\n",
       "      <td>0.768737</td>\n",
       "      <td>1.216869</td>\n",
       "      <td>0.729845</td>\n",
       "      <td>-0.531645</td>\n",
       "      <td>0.302197</td>\n",
       "      <td>-0.828172</td>\n",
       "      <td>1.241267</td>\n",
       "      <td>-0.574148</td>\n",
       "      <td>-0.298377</td>\n",
       "      <td>0.170995</td>\n",
       "      <td>0.267230</td>\n",
       "      <td>NaN</td>\n",
       "      <td>-0.512487</td>\n",
       "      <td>-0.669390</td>\n",
       "      <td>-0.319029</td>\n",
       "      <td>-0.893765</td>\n",
       "      <td>-0.170453</td>\n",
       "      <td>-0.357013</td>\n",
       "    </tr>\n",
       "  </tbody>\n",
       "</table>\n",
       "<p>1548 rows × 19 columns</p>\n",
       "</div>"
      ],
      "text/plain": [
       "        Ind_ID    GENDER  Car_Owner  Propert_Owner  CHILDREN  Annual_income  \\\n",
       "0    -1.680730 -1.300836   1.216869       0.729845 -0.531645      -0.098116   \n",
       "1    -1.658742  0.768737   1.216869      -1.370155 -0.531645       1.102824   \n",
       "2    -1.658694  0.768737   1.216869      -1.370155 -0.531645       1.102824   \n",
       "3    -1.658622  0.768737   1.216869      -1.370155 -0.531645      -0.218210   \n",
       "4    -1.658550  0.768737   1.216869      -1.370155 -0.531645       1.102824   \n",
       "...        ...       ...        ...            ...       ...            ...   \n",
       "1543 -1.205525  0.768737  -0.821781       0.729845 -0.531645      -0.218210   \n",
       "1544 -1.325178  0.768737  -0.821781      -1.370155 -0.531645       0.302197   \n",
       "1545  0.888921 -1.300836   1.216869       0.729845  2.044213      -0.098116   \n",
       "1546  0.942321 -1.300836   1.216869      -1.370155 -0.531645       0.702511   \n",
       "1547 -0.602587  0.768737   1.216869       0.729845 -0.531645       0.302197   \n",
       "\n",
       "      Type_Income  EDUCATION  Marital_status  Housing_type  Birthday_count  \\\n",
       "0        1.221405   1.241267       -0.574148     -0.298377        0.642359   \n",
       "1        0.196616   1.241267       -0.574148     -0.298377       -0.489706   \n",
       "2        0.196616   1.241267       -0.574148     -0.298377       -3.431966   \n",
       "3        0.196616   1.241267       -0.574148     -0.298377       -0.489706   \n",
       "4        0.196616   1.241267       -0.574148     -0.298377       -0.489706   \n",
       "...           ...        ...             ...           ...             ...   \n",
       "1543     0.196616   1.241267       -0.574148     -0.298377       -0.836693   \n",
       "1544     0.196616  -3.244681        0.299777     -0.298377       -1.212200   \n",
       "1545    -0.828172   1.241267       -0.574148     -0.298377       -0.572888   \n",
       "1546    -0.828172  -0.254049        1.173702     -0.298377       -0.112615   \n",
       "1547    -0.828172   1.241267       -0.574148     -0.298377        0.170995   \n",
       "\n",
       "      Employed_days  Mobile_phone  Work_Phone     Phone  EMAIL_ID  \\\n",
       "0         -0.922777           NaN   -0.512487 -0.669390 -0.319029   \n",
       "1         -0.678865           NaN    1.951270  1.493899 -0.319029   \n",
       "2         -0.678865           NaN    1.951270  1.493899 -0.319029   \n",
       "3         -0.678865           NaN    1.951270  1.493899 -0.319029   \n",
       "4         -0.678865           NaN    1.951270  1.493899 -0.319029   \n",
       "...             ...           ...         ...       ...       ...   \n",
       "1543      -0.014559           NaN   -0.512487 -0.669390 -0.319029   \n",
       "1544      -0.419553           NaN   -0.512487 -0.669390 -0.319029   \n",
       "1545       0.108229           NaN   -0.512487 -0.669390 -0.319029   \n",
       "1546      -0.654307           NaN    1.951270  1.493899 -0.319029   \n",
       "1547       0.267230           NaN   -0.512487 -0.669390 -0.319029   \n",
       "\n",
       "      Type_Occupation  Family_Members     label  \n",
       "0           -0.893765       -0.170453  2.801020  \n",
       "1           -0.893765       -0.170453  2.801020  \n",
       "2           -0.893765       -0.170453  2.801020  \n",
       "3           -0.893765       -0.170453  2.801020  \n",
       "4           -0.893765       -0.170453  2.801020  \n",
       "...               ...             ...       ...  \n",
       "1543         0.829823       -0.170453 -0.357013  \n",
       "1544         0.337369       -1.225901 -0.357013  \n",
       "1545         0.829823        1.940442 -0.357013  \n",
       "1546         1.322276       -0.170453 -0.357013  \n",
       "1547        -0.893765       -0.170453 -0.357013  \n",
       "\n",
       "[1548 rows x 19 columns]"
      ]
     },
     "execution_count": 105,
     "metadata": {},
     "output_type": "execute_result"
    }
   ],
   "source": [
    "# credit_df[['CHILDREN', 'Annual_income', 'Type_Income', 'EDUCATION', 'Marital_status',\n",
    "#            'Housing_type', 'Birthday_count', 'Employed_days', 'Phone', 'Type_Occupation', 'Family_Members']]\n",
    "\n",
    "# I was looking how to normalize and found this\n",
    "# it subtracts the mean from the df and then divides by the standard deviation\n",
    "from scipy.stats import zscore\n",
    "credit_df_zscore = credit_df.apply(zscore)\n",
    "credit_df_zscore"
   ]
  },
  {
   "cell_type": "code",
   "execution_count": 106,
   "id": "98c38db4-04db-4c58-ae34-0d64df6f89d1",
   "metadata": {},
   "outputs": [
    {
     "name": "stdout",
     "output_type": "stream",
     "text": [
      "Accuracy Score: 0.028338466057532652\n"
     ]
    },
    {
     "data": {
      "image/png": "[encoded data removed]",
      "text/plain": [
       "<Figure size 640x480 with 1 Axes>"
      ]
     },
     "metadata": {},
     "output_type": "display_data"
    }
   ],
   "source": [
    "# Linear Regression\n",
    "linear_regression(credit_df_zscore['Annual_income'],credit_df_zscore['EDUCATION'])"
   ]
  },
  {
   "cell_type": "code",
   "execution_count": 107,
   "id": "9d1cf65a-6a97-4051-a8aa-38abf3bff6cc",
   "metadata": {},
   "outputs": [
    {
     "name": "stdout",
     "output_type": "stream",
     "text": [
      "Highest Score: 0.8924731182795699\n",
      "KNN Value Used: 2\n"
     ]
    },
    {
     "data": {
      "image/png": "[encoded data removed]",
      "text/plain": [
       "<Figure size 640x480 with 2 Axes>"
      ]
     },
     "metadata": {},
     "output_type": "display_data"
    }
   ],
   "source": [
    "# KNN\n",
    "\n",
    "# here I'm converting label back to 0 and 1 so I can do knn and logistic regression with it\n",
    "from sklearn import preprocessing\n",
    "label_encoder = preprocessing.LabelEncoder()\n",
    "credit_df_zscore['label'] = label_encoder.fit_transform(credit_df_zscore['label'])\n",
    "credit_df_zscore['Mobile_phone'] = label_encoder.fit_transform(credit_df_zscore['Mobile_phone'])\n",
    "credit_df_zscore\n",
    "\n",
    "knn_test_all(credit_df_zscore, 'label', 30)"
   ]
  },
  {
   "cell_type": "code",
   "execution_count": 108,
   "id": "c6f3f6eb-7022-40e9-8482-ce7c8510b98e",
   "metadata": {},
   "outputs": [
    {
     "name": "stdout",
     "output_type": "stream",
     "text": [
      "Regression Score: 0.6161290322580645\n"
     ]
    },
    {
     "data": {
      "image/png": "[encoded data removed]",
      "text/plain": [
       "<Figure size 640x480 with 3 Axes>"
      ]
     },
     "metadata": {},
     "output_type": "display_data"
    },
    {
     "data": {
      "image/png": "[encoded data removed]",
      "text/plain": [
       "<Figure size 640x480 with 2 Axes>"
      ]
     },
     "metadata": {},
     "output_type": "display_data"
    }
   ],
   "source": [
    "# Logistic Regression\n",
    "\n",
    "logistical_regression(credit_df_zscore, 'label', 'y', 'y')"
   ]
  },
  {
   "cell_type": "markdown",
   "id": "79d1211f-451c-4d3c-b3e2-4f09e0a945c7",
   "metadata": {},
   "source": [
    "The results didn't change it all after performing normalization on the dataset.\n",
    "\n",
    "The best measure in this dataframe is knn, with a score of 89. I do feel as if the results for all of these are skewed, though, because of how many more approvals there are than rejects in the labels column. In addition, KNN has a precision score, which is necessary when working with this df. Accidentally disapproving of people who should be approved is bad and can cause problems, but I feel as if accidentally approving those who shouldn't be approved is more costly. This can cost money and reputation."
   ]
  }
 ],
 "metadata": {
  "kernelspec": {
   "display_name": "Python 3 (ipykernel)",
   "language": "python",
   "name": "python3"
  },
  "language_info": {
   "codemirror_mode": {
    "name": "ipython",
    "version": 3
   },
   "file_extension": ".py",
   "mimetype": "text/x-python",
   "name": "python",
   "nbconvert_exporter": "python",
   "pygments_lexer": "ipython3",
   "version": "3.10.11"
  }
 },
 "nbformat": 4,
 "nbformat_minor": 5
}
