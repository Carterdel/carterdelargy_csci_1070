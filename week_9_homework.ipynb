{
 "cells": [
  {
   "cell_type": "code",
   "execution_count": 116,
   "metadata": {},
   "outputs": [],
   "source": [
    "# import pandas as pd\n",
    "# import numpy as np\n",
    "# import matplotlib.pyplot as plt\n",
    "\n",
    "credit_df = pd.read_csv(\"credit_card.csv\")\n",
    "credit_card_labels = pd.read_csv('credit_card_label.csv')\n",
    "credit_df = pd.merge(credit_df, credit_card_labels, on=\"Ind_ID\")"
   ]
  },
  {
   "cell_type": "markdown",
   "metadata": {},
   "source": [
    "# 1. Cleaning Up Data"
   ]
  },
  {
   "cell_type": "code",
   "execution_count": 117,
   "metadata": {},
   "outputs": [],
   "source": [
    "def standardize():\n",
    "    credit_df['GENDER'] = credit_df['GENDER'].map({'M':0, 'F':1})\n",
    "    credit_df['Car_Owner'] = credit_df['Car_Owner'].map({'Y':1, 'N':0})\n",
    "    credit_df['Propert_Owner'] = credit_df['Propert_Owner'].map({'Y':1, 'N':0})\n",
    "    credit_df['Type_Income'] = credit_df['Type_Income'].map({'Working':1, 'Commercial associate':2,\n",
    "                                                         'Pensioner':3, 'State servant':4})\n",
    "    credit_df['EDUCATION'] = credit_df['EDUCATION'].map({'Academic degree':1,'Incomplete higher':2,\n",
    "                                                     'Lower secondary':3,'Secondary / secondary special':4,\n",
    "                                                     'Higher education':5})\n",
    "    credit_df['Marital_status'] = credit_df['Marital_status'].map({'Married':1, 'Single / not married':2,\n",
    "                                                               'Civil marriage':3,'Separated':4,\n",
    "                                                               'Widow':5})\n",
    "    credit_df['Housing_type'] = credit_df['Housing_type'].map({'House / apartment':1, 'With parents':2,\n",
    "                                                           'Rented apartment':3,'Municipal apartment':4,\n",
    "                                                           'Co-op apartment':5,'Office apartment':6})\n",
    "    credit_df['Type_Occupation'] = credit_df['Type_Occupation'].map({'Core staff':1,'Cooking staff':2,\n",
    "                                                                'Laborers':3,'Sales staff':4,'Accountants':5,\n",
    "                                                                 'High skill tech staff':6,'Managers':7,\n",
    "                                                                'Cleaning staff':8,'Drivers':9,\n",
    "                                                                'Low-skill laborers':10,'IT staff':11,\n",
    "                                                                'Waiters/barmen staff':12,'Security staff':13,\n",
    "                                                                'Medicine staff':14,'Private service staff':15,\n",
    "                                                                'HR staff':16,'Secretaries':17,'Realty agents':18})\n",
    "    credit_df['Type_Occupation'] = credit_df['Type_Occupation'].fillna(credit_df['Type_Occupation'].mean())\n",
    "    \n",
    "    credit_df['GENDER'] = credit_df['GENDER'].fillna(credit_df['GENDER'].mean())\n",
    "    \n",
    "    credit_df['Birthday_count'] = credit_df['Birthday_count'].div(-365)\n",
    "    credit_df['Birthday_count'] = credit_df['Birthday_count'].round(2)\n",
    "    credit_df['Birthday_count'] = credit_df['Birthday_count'].fillna(credit_df['Birthday_count'].mean())\n",
    "\n",
    "    credit_df['Employed_days'] = credit_df['Employed_days'].replace(365243,0)\n",
    "    credit_df['Employed_days'] = credit_df['Employed_days']*(-1)\n",
    "\n",
    "    credit_df['Annual_income'] = credit_df['Annual_income'].fillna(credit_df['Annual_income'].mean())\n",
    "    # 0 means unemployed\n",
    "    # credit_df['Birthday_count'].fillna(0)"
   ]
  },
  {
   "cell_type": "markdown",
   "metadata": {},
   "source": [
    "When making improvements to the cleaning of the dataframe, I swapped the NaN values in type_occupation, gender, and birthday count for their means"
   ]
  },
  {
   "cell_type": "code",
   "execution_count": 118,
   "metadata": {},
   "outputs": [],
   "source": [
    "standardize()\n"
   ]
  },
  {
   "cell_type": "code",
   "execution_count": 151,
   "metadata": {},
   "outputs": [],
   "source": [
    "from sklearn.linear_model import LogisticRegression\n",
    "from sklearn.neighbors import KNeighborsClassifier\n",
    "from sklearn.model_selection import train_test_split\n",
    "from sklearn.preprocessing import StandardScaler\n",
    "from sklearn.metrics import ConfusionMatrixDisplay, confusion_matrix, classification_report\n",
    "def train_test_split():\n",
    "    X = credit_df.drop('label', axis = 1)\n",
    "    y = credit_df['label']\n",
    "\n",
    "    X_train, X_test, y_train, y_test = train_test_split(X, y, \n",
    "                                    test_size = 0.3, random_state = 13, stratify=y)"
   ]
  },
  {
   "cell_type": "code",
   "execution_count": 120,
   "metadata": {},
   "outputs": [
    {
     "name": "stdout",
     "output_type": "stream",
     "text": [
      "Regression Score: 0.6096774193548387\n"
     ]
    },
    {
     "data": {
      "image/png": "[encoded data removed]",
      "text/plain": [
       "<Figure size 640x480 with 3 Axes>"
      ]
     },
     "metadata": {},
     "output_type": "display_data"
    },
    {
     "data": {
      "image/png": "[encoded data removed]",
      "text/plain": [
       "<Figure size 640x480 with 2 Axes>"
      ]
     },
     "metadata": {},
     "output_type": "display_data"
    }
   ],
   "source": [
    "def logistical_regression(linreg_df: str, linreg_column: str, mosaic_y_or_n:str, matrix_y_or_n:str) -> str:    \n",
    "    from sklearn.linear_model import LogisticRegression\n",
    "    from sklearn.preprocessing import StandardScaler\n",
    "    from sklearn.model_selection import train_test_split\n",
    "    from sklearn.metrics import confusion_matrix\n",
    "    from statsmodels.graphics.mosaicplot import mosaic\n",
    "    from sklearn.metrics import ConfusionMatrixDisplay\n",
    "\n",
    "    X = linreg_df.drop(linreg_column, axis=1)\n",
    "    y = linreg_df[linreg_column]\n",
    "    \n",
    "    X_train, X_test, y_train, y_test = train_test_split(X, y, test_size = 0.2,\n",
    "    random_state=13, stratify=y)\n",
    "    \n",
    "    sc = StandardScaler()\n",
    "    \n",
    "    X_train = sc.fit_transform(X_train)\n",
    "    X_test = sc.fit_transform(X_test)\n",
    "    \n",
    "    regression = LogisticRegression(random_state=13, class_weight='balanced').fit(X_train, y_train)\n",
    "    y_predicted = regression.predict(X_test)\n",
    "    print('Regression Score:', regression.score(X_test, y_test))\n",
    "    if mosaic_y_or_n == 'y':\n",
    "        conf_matrix = confusion_matrix(y_test, y_predicted)\n",
    "        mosaic(conf_matrix)\n",
    "    if matrix_y_or_n == 'y':\n",
    "        ConfusionMatrixDisplay.from_estimator(regression, X_test, y_test)\n",
    "logistical_regression(credit_df, 'label', 'y', 'y')\n",
    "\n",
    "def precision_and_recall(calc_type: str, tp: int, tn: int,\n",
    "                                fp: int, fn: int) -> float:\n",
    "    if calc_type == \"precision\":\n",
    "        value = tp / (tp + fp)\n",
    "        return value\n",
    "    elif calc_type == \"recall\":\n",
    "        value = tp / (tp + fn)\n",
    "        return value\n",
    "    elif calc_type == \"accuracy\":\n",
    "        value = (tp + tn) / (tp+tn+fp+fn)\n",
    "        return value\n",
    "\n"
   ]
  },
  {
   "cell_type": "markdown",
   "metadata": {},
   "source": [
    "I get a really poorly performing dataframe with a lot of false positives."
   ]
  },
  {
   "cell_type": "code",
   "execution_count": 121,
   "metadata": {},
   "outputs": [
    {
     "data": {
      "text/plain": [
       "0.6"
      ]
     },
     "execution_count": 121,
     "metadata": {},
     "output_type": "execute_result"
    }
   ],
   "source": [
    "# the recall is poor\n",
    "precision_and_recall('recall',21,168,107,14)"
   ]
  },
  {
   "cell_type": "code",
   "execution_count": 122,
   "metadata": {},
   "outputs": [
    {
     "name": "stdout",
     "output_type": "stream",
     "text": [
      "Highest Score: 0.8924731182795699\n",
      "KNN Value Used: 2\n"
     ]
    },
    {
     "data": {
      "image/png": "[encoded data removed]",
      "text/plain": [
       "<Figure size 640x480 with 2 Axes>"
      ]
     },
     "metadata": {},
     "output_type": "display_data"
    }
   ],
   "source": [
    "def knn_test_all(target_df: str, target_column: str, knn_max_val: int) -> str:\n",
    "    from sklearn.metrics import confusion_matrix, ConfusionMatrixDisplay\n",
    "    credit_df.columns = credit_df.columns.astype(str)\n",
    "    X = target_df.drop(target_column, axis=1)\n",
    "    y = target_df[target_column]\n",
    "\n",
    "    X_train, X_test, y_train, y_test = train_test_split(X, y, test_size = 0.3, random_state = 13)\n",
    "\n",
    "    sc = StandardScaler()\n",
    "    X_train = sc.fit_transform(X_train)\n",
    "    X_test = sc.fit_transform(X_test)\n",
    "\n",
    "    # looks for max\n",
    "    knn_list = []\n",
    "    knn_val = 1\n",
    "    while knn_val <= knn_max_val:\n",
    "        knn = KNeighborsClassifier(n_neighbors=knn_val)\n",
    "        knn.fit(X_train, y_train)\n",
    "        knn_list.append(knn.score(X_test, y_test))\n",
    "        knn_val = knn_val + 1\n",
    "    # print(knn_list)\n",
    "    knn_max = (max(knn_list))\n",
    "    knn_val_in_list = (knn_list.index(knn_max))\n",
    "    print('Highest Score:', knn_max)\n",
    "    print('KNN Value Used:', knn_val_in_list + 1)\n",
    "    y_pred = knn.predict(X_test)\n",
    "    ConfusionMatrixDisplay.from_estimator(knn, X_test, y_test)\n",
    "    \n",
    "knn_test_all(credit_df, 'label', 30)\n",
    "\n",
    "\n"
   ]
  },
  {
   "cell_type": "markdown",
   "metadata": {},
   "source": [
    "With my KNN it's now just negatives and false negatives. I used my function from assignment 6 where it found the best knn value and used it.\n"
   ]
  },
  {
   "cell_type": "markdown",
   "metadata": {},
   "source": [
    "# Combined"
   ]
  },
  {
   "cell_type": "code",
   "execution_count": 123,
   "metadata": {},
   "outputs": [],
   "source": [
    "# from imblearn.combine import SMOTEENN\n",
    "# combine = SMOTEENN(random_state=13)\n",
    "\n",
    "# X_resampled, y_resampled = combine.fit_resample(X_train, y_train)\n",
    "\n",
    "# model = LogisticRegression(random_state = 13)\n",
    "# model.fit(X_resampled, y_resampled)"
   ]
  },
  {
   "cell_type": "code",
   "execution_count": 124,
   "metadata": {},
   "outputs": [],
   "source": [
    "# y_pred = model.predict(X_test)\n",
    "# ConfusionMatrixDisplay.from_estimator(model, X_test, y_test)"
   ]
  },
  {
   "cell_type": "code",
   "execution_count": 125,
   "metadata": {},
   "outputs": [
    {
     "data": {
      "text/plain": [
       "0.15185185185185185"
      ]
     },
     "execution_count": 125,
     "metadata": {},
     "output_type": "execute_result"
    }
   ],
   "source": [
    "\n",
    "\n",
    "precision_and_recall('precision',41,182,229,12)\n"
   ]
  },
  {
   "cell_type": "code",
   "execution_count": 126,
   "metadata": {},
   "outputs": [
    {
     "data": {
      "text/plain": [
       "0.7735849056603774"
      ]
     },
     "execution_count": 126,
     "metadata": {},
     "output_type": "execute_result"
    }
   ],
   "source": [
    "precision_and_recall('recall',41,182,229,12)"
   ]
  },
  {
   "cell_type": "markdown",
   "metadata": {},
   "source": [
    "# Oversampler"
   ]
  },
  {
   "cell_type": "code",
   "execution_count": 127,
   "metadata": {},
   "outputs": [],
   "source": [
    "# from imblearn.over_sampling import RandomOverSampler\n",
    "\n",
    "# ros = RandomOverSampler(random_state=13)\n",
    "\n",
    "# X_resampled, y_resampled = ros.fit_resample(X_train, y_train)"
   ]
  },
  {
   "cell_type": "code",
   "execution_count": 128,
   "metadata": {},
   "outputs": [],
   "source": [
    "# model = LogisticRegression(random_state=42)\n",
    "# model.fit(X_resampled, y_resampled)"
   ]
  },
  {
   "cell_type": "code",
   "execution_count": 129,
   "metadata": {},
   "outputs": [],
   "source": [
    "# y_pred = model.predict(X_test)\n",
    "\n",
    "# ConfusionMatrixDisplay.from_estimator(model, X_test, y_test)"
   ]
  },
  {
   "cell_type": "code",
   "execution_count": 130,
   "metadata": {},
   "outputs": [
    {
     "data": {
      "text/plain": [
       "0.6037735849056604"
      ]
     },
     "execution_count": 130,
     "metadata": {},
     "output_type": "execute_result"
    }
   ],
   "source": [
    "precision_and_recall('recall',32,245,167,21)"
   ]
  },
  {
   "cell_type": "code",
   "execution_count": 131,
   "metadata": {},
   "outputs": [
    {
     "data": {
      "text/plain": [
       "0.16080402010050251"
      ]
     },
     "execution_count": 131,
     "metadata": {},
     "output_type": "execute_result"
    }
   ],
   "source": [
    "precision_and_recall('precision',32,245,167,21)"
   ]
  },
  {
   "cell_type": "markdown",
   "metadata": {},
   "source": [
    "# 2. Undersampler"
   ]
  },
  {
   "cell_type": "code",
   "execution_count": 132,
   "metadata": {},
   "outputs": [],
   "source": [
    "from imblearn.under_sampling import ClusterCentroids\n",
    "def perform_undersampling():\n",
    "    rus = ClusterCentroids(random_state=13)\n",
    "    X_resampled, y_resampled = rus.fit_resample(X_train, y_train)\n",
    "    model = LogisticRegression(random_state = 13)\n",
    "    model.fit(X_resampled, y_resampled)\n",
    "    y_pred = model.predict(X_test)\n",
    "    ConfusionMatrixDisplay.from_estimator(model, X_test, y_test)"
   ]
  },
  {
   "cell_type": "code",
   "execution_count": 133,
   "metadata": {},
   "outputs": [
    {
     "name": "stderr",
     "output_type": "stream",
     "text": [
      "c:\\Users\\cjcra\\Documents\\csci_1070_course\\virtualenvtest\\lib\\site-packages\\sklearn\\linear_model\\_logistic.py:469: ConvergenceWarning: lbfgs failed to converge (status=1):\n",
      "STOP: TOTAL NO. of ITERATIONS REACHED LIMIT.\n",
      "\n",
      "Increase the number of iterations (max_iter) or scale the data as shown in:\n",
      "    https://scikit-learn.org/stable/modules/preprocessing.html\n",
      "Please also refer to the documentation for alternative solver options:\n",
      "    https://scikit-learn.org/stable/modules/linear_model.html#logistic-regression\n",
      "  n_iter_i = _check_optimize_result(\n"
     ]
    },
    {
     "data": {
      "image/png": "[encoded data removed]",
      "text/plain": [
       "<Figure size 640x480 with 2 Axes>"
      ]
     },
     "metadata": {},
     "output_type": "display_data"
    }
   ],
   "source": [
    "# y_pred = model.predict(X_test)\n",
    "# ConfusionMatrixDisplay.from_estimator(model, X_test, y_test)\n",
    "perform_undersampling()"
   ]
  },
  {
   "cell_type": "code",
   "execution_count": 134,
   "metadata": {},
   "outputs": [
    {
     "data": {
      "text/plain": [
       "0.9056603773584906"
      ]
     },
     "execution_count": 134,
     "metadata": {},
     "output_type": "execute_result"
    }
   ],
   "source": [
    "precision_and_recall('recall',48,61,351,5)\n",
    "# Oversampling and undersampling both have their drawbacks, with this one having a very high recall but also having a lot of false positives"
   ]
  },
  {
   "cell_type": "code",
   "execution_count": 135,
   "metadata": {},
   "outputs": [
    {
     "data": {
      "text/plain": [
       "0.12030075187969924"
      ]
     },
     "execution_count": 135,
     "metadata": {},
     "output_type": "execute_result"
    }
   ],
   "source": [
    "precision_and_recall('precision',48,61,351,5)"
   ]
  },
  {
   "cell_type": "code",
   "execution_count": 136,
   "metadata": {},
   "outputs": [],
   "source": [
    "def knn_test_all(knn_max_val):\n",
    "    knn_list = []\n",
    "    knn_val = 1\n",
    "    while knn_val <= knn_max_val:\n",
    "        knn = KNeighborsClassifier(n_neighbors=knn_val)\n",
    "        knn.fit(X_train, y_train)\n",
    "        knn_list.append(knn.score(X_test, y_test))\n",
    "        knn_val = knn_val + 1\n",
    "    # print(knn_list)\n",
    "    knn_max = (max(knn_list))\n",
    "    knn_val_in_list = (knn_list.index(knn_max))\n",
    "    print('Highest Score:', knn_max)\n",
    "    print('KNN Value Used:', knn_val_in_list + 1)\n",
    "    y_pred = knn.predict(X_test)\n",
    "    ConfusionMatrixDisplay.from_estimator(knn, X_test, y_test)"
   ]
  },
  {
   "cell_type": "code",
   "execution_count": 137,
   "metadata": {},
   "outputs": [
    {
     "name": "stdout",
     "output_type": "stream",
     "text": [
      "Highest Score: 0.886021505376344\n",
      "KNN Value Used: 4\n"
     ]
    },
    {
     "data": {
      "image/png": "[encoded data removed]",
      "text/plain": [
       "<Figure size 640x480 with 2 Axes>"
      ]
     },
     "metadata": {},
     "output_type": "display_data"
    }
   ],
   "source": [
    "knn_test_all(30)"
   ]
  },
  {
   "cell_type": "markdown",
   "metadata": {},
   "source": [
    "I went with recall to help me determine the best way to sample this data, because the precision in all of these is horrible.\n",
    "I'm choosing the dataset model that used undersampling\n",
    "\n",
    "The KNN for undersampling also performed poorly similarly to how it performed normally."
   ]
  },
  {
   "cell_type": "markdown",
   "metadata": {},
   "source": [
    "# 3. ROC Curve"
   ]
  },
  {
   "cell_type": "code",
   "execution_count": 138,
   "metadata": {},
   "outputs": [],
   "source": [
    "from sklearn import metrics\n",
    "def roc_curve():\n",
    "    fpr, tpr, thresholds = metrics.roc_curve(y_test, model.predict_proba(X_test)[:,1])\n",
    "    aucmetric = metrics.auc(fpr,tpr)\n",
    "    print(\"Calculated AUC: \", aucmetric)\n",
    "    display = metrics.RocCurveDisplay(fpr=fpr, tpr=tpr)\n",
    "    display.plot()"
   ]
  },
  {
   "cell_type": "code",
   "execution_count": 139,
   "metadata": {},
   "outputs": [
    {
     "name": "stdout",
     "output_type": "stream",
     "text": [
      "Calculated AUC:  0.4717897050741894\n"
     ]
    },
    {
     "name": "stderr",
     "output_type": "stream",
     "text": [
      "c:\\Users\\cjcra\\Documents\\csci_1070_course\\virtualenvtest\\lib\\site-packages\\sklearn\\metrics\\_plot\\roc_curve.py:171: UserWarning: No artists with labels found to put in legend.  Note that artists whose label start with an underscore are ignored when legend() is called with no argument.\n",
      "  self.ax_.legend(loc=\"lower right\")\n"
     ]
    },
    {
     "data": {
      "image/png": "[encoded data removed]",
      "text/plain": [
       "<Figure size 640x480 with 1 Axes>"
      ]
     },
     "metadata": {},
     "output_type": "display_data"
    }
   ],
   "source": [
    "roc_curve()"
   ]
  },
  {
   "cell_type": "code",
   "execution_count": null,
   "metadata": {},
   "outputs": [],
   "source": []
  },
  {
   "cell_type": "markdown",
   "metadata": {},
   "source": [
    "This shows the true positive and false positive rate is pretty even up until the end."
   ]
  },
  {
   "cell_type": "markdown",
   "metadata": {},
   "source": [
    "# 4. SVM"
   ]
  },
  {
   "cell_type": "code",
   "execution_count": 140,
   "metadata": {},
   "outputs": [],
   "source": [
    "from sklearn import svm\n",
    "from sklearn.svm import SVC\n",
    "def svm():\n",
    "    classifier = SVC(kernel = 'linear')\n",
    "    classifier.fit(X_train, y_train)\n",
    "    y_pred = classifier.predict(X_test)\n",
    "    ConfusionMatrixDisplay.from_estimator(classifier, X_test, y_test)\n",
    "    \n"
   ]
  },
  {
   "cell_type": "code",
   "execution_count": 141,
   "metadata": {},
   "outputs": [
    {
     "data": {
      "image/png": "[encoded data removed]",
      "text/plain": [
       "<Figure size 640x480 with 2 Axes>"
      ]
     },
     "metadata": {},
     "output_type": "display_data"
    }
   ],
   "source": [
    "svm()"
   ]
  },
  {
   "cell_type": "code",
   "execution_count": 142,
   "metadata": {},
   "outputs": [
    {
     "data": {
      "text/plain": [
       "0.0"
      ]
     },
     "execution_count": 142,
     "metadata": {},
     "output_type": "execute_result"
    }
   ],
   "source": [
    "precision_and_recall('recall',0,412,0,53)"
   ]
  },
  {
   "cell_type": "markdown",
   "metadata": {},
   "source": [
    "The SVM didn't predict well at all, with it only displaying true and false negatives."
   ]
  },
  {
   "cell_type": "markdown",
   "metadata": {},
   "source": [
    "# 5. Outlier Detection"
   ]
  },
  {
   "cell_type": "markdown",
   "metadata": {},
   "source": [
    "Outlier detection is where finding pieces of your data that is significantly off from the majority of your data. Outlier detection is so important because outliers can hurt your analysis. These outliers could be normal and actually happened, or they could be instances of the data being put in wrong. If it's the latter, it's important to detect and remove the outlier, and if it's the former, then it should probably stay. When it's real data, it can help to show the \"big picture\" of the data.\n",
    "    \n",
    "There are many different ways to use outlier detection. One easy way is to you box plots, where you can easily see dots where they're far off from the rest of the data. Another way is using \"isolation forest\" which is a method you can import from sklearn. What it does is "
   ]
  },
  {
   "cell_type": "markdown",
   "metadata": {},
   "source": []
  }
 ],
 "metadata": {
  "kernelspec": {
   "display_name": "Python 3",
   "language": "python",
   "name": "python3"
  },
  "language_info": {
   "codemirror_mode": {
    "name": "ipython",
    "version": 3
   },
   "file_extension": ".py",
   "mimetype": "text/x-python",
   "name": "python",
   "nbconvert_exporter": "python",
   "pygments_lexer": "ipython3",
   "version": "3.10.11"
  }
 },
 "nbformat": 4,
 "nbformat_minor": 2
}
