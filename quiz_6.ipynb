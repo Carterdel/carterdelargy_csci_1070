{
 "cells": [
  {
   "cell_type": "code",
   "execution_count": 47,
   "id": "8fe2f3df-4b73-49a6-8bed-99bbc9c58ce6",
   "metadata": {},
   "outputs": [],
   "source": [
    "import pandas as pd\n",
    "import numpy as np\n",
    "import matplotlib.pyplot as plt\n",
    "from sklearn.linear_model import LogisticRegression\n",
    "from sklearn.model_selection import train_test_split\n",
    "from sklearn.preprocessing import StandardScaler\n",
    "\n",
    "\n",
    "titanic_df = pd.read_csv('titanic.csv')"
   ]
  },
  {
   "cell_type": "code",
   "execution_count": 33,
   "id": "c7fc1f27-833d-432a-ba8c-cd218fba5a73",
   "metadata": {},
   "outputs": [
    {
     "data": {
      "text/plain": [
       "Index(['PassengerId', 'Survived', 'Pclass', 'Name', 'Sex', 'Age', 'SibSp',\n",
       "       'Parch', 'Ticket', 'Fare', 'Cabin', 'Embarked'],\n",
       "      dtype='object')"
      ]
     },
     "execution_count": 33,
     "metadata": {},
     "output_type": "execute_result"
    }
   ],
   "source": [
    "titanic_df.columns"
   ]
  },
  {
   "cell_type": "code",
   "execution_count": 34,
   "id": "05f4ee5c-3a53-4018-92f5-4cb1b0cf02c9",
   "metadata": {},
   "outputs": [],
   "source": [
    "# Standardization\n",
    "\n",
    "embark_map = {'S':1, 'C':2, 'Q':3}\n",
    "titanic_df['Embarked'] = titanic_df['Embarked'].map(embark_map)\n",
    "titanic_df['Embarked'] = titanic_df['Embarked'].fillna(4)\n",
    "\n",
    "titanic_df[['Last Name', 'First Name']] = titanic_df['Name'].str.split(',', expand=True)\n",
    "\n",
    "gender_df = pd.get_dummies(titanic_df[['Sex']])\n",
    "titanic_df = pd.concat([titanic_df, gender_df], axis=1)\n",
    "\n",
    "titanic_df['Age'] = titanic_df['Age'].fillna(titanic_df['Age'].median())"
   ]
  },
  {
   "cell_type": "markdown",
   "id": "0479a09a-1785-4c0c-8333-5bdbaa7b89c4",
   "metadata": {},
   "source": [
    "# Logistic Regression\n",
    "\n",
    "The reason I'm choosing logistic regression for this is because it uses 0 and 1 values.\n",
    "I want to predict if someone lives or dies, so I can use the surviving column (0,1) and\n",
    "predict either a 0 or a 1."
   ]
  },
  {
   "cell_type": "code",
   "execution_count": 35,
   "id": "ac428de1-cc69-4dc6-be7f-045aa84b124f",
   "metadata": {},
   "outputs": [],
   "source": [
    "# Logisitic Regression\n",
    "\n",
    "X = titanic_df[['Sex_female','Sex_male', 'Age', 'SibSp', 'Parch', 'Embarked']]\n",
    "y = titanic_df['Survived']\n",
    "\n",
    "X_train, X_test, y_train, y_test = train_test_split(X, y, test_size = 0.2, random_state=13,\n",
    "                                                    stratify=y)\n",
    "sc = StandardScaler()\n",
    "X_train = sc.fit_transform(X_train)\n",
    "X_test = sc.fit_transform(X_test)"
   ]
  },
  {
   "cell_type": "code",
   "execution_count": 38,
   "id": "93458f04-18d4-49ca-a668-e3005913f7f8",
   "metadata": {},
   "outputs": [
    {
     "data": {
      "text/plain": [
       "array([1, 1, 1, 0, 1, 0, 1, 1, 1, 1, 0, 1, 0, 1, 1, 0, 0, 0, 0, 1, 0, 0,\n",
       "       0, 1, 1, 0, 1, 1, 0, 0, 0, 1, 0, 0, 0, 1, 0, 1, 1, 0, 0, 0, 0, 1,\n",
       "       0, 1, 0, 0, 0, 0, 0, 0, 0, 0, 0, 0, 1, 0, 1, 1, 1, 0, 1, 0, 1, 0,\n",
       "       0, 0, 0, 1, 1, 0, 0, 0, 0, 0, 0, 0, 0, 0, 0, 0, 0, 1, 1, 1, 1, 1,\n",
       "       1, 0, 0, 1, 0, 0, 1, 1, 0, 1, 1, 0, 0, 1, 0, 1, 1, 0, 1, 1, 0, 0,\n",
       "       0, 0, 1, 0, 0, 0, 0, 1, 0, 0, 1, 1, 0, 0, 0, 0, 1, 0, 1, 0, 1, 1,\n",
       "       1, 0, 1, 0, 1, 1, 0, 1, 1, 0, 0, 0, 1, 0, 1, 0, 0, 0, 0, 0, 0, 1,\n",
       "       1, 1, 0, 1, 1, 0, 0, 0, 0, 0, 0, 0, 0, 0, 0, 0, 0, 0, 1, 1, 1, 1,\n",
       "       0, 1, 0])"
      ]
     },
     "execution_count": 38,
     "metadata": {},
     "output_type": "execute_result"
    }
   ],
   "source": [
    "regression = LogisticRegression(random_state=13).fit(X_train, y_train)\n",
    "y_predicted = regression.predict(X_test)\n",
    "y_predicted"
   ]
  },
  {
   "cell_type": "code",
   "execution_count": 39,
   "id": "9fedf591-82db-4cfc-8dfe-482b592b648e",
   "metadata": {},
   "outputs": [
    {
     "data": {
      "text/plain": [
       "0.7821229050279329"
      ]
     },
     "execution_count": 39,
     "metadata": {},
     "output_type": "execute_result"
    }
   ],
   "source": [
    "regression.score(X_test, y_test)\n",
    "\n",
    "# This is a pretty good regression score"
   ]
  },
  {
   "cell_type": "code",
   "execution_count": 40,
   "id": "8b69ca2c-2365-448c-bb0f-fa3394b89b92",
   "metadata": {},
   "outputs": [
    {
     "data": {
      "text/plain": [
       "(<Figure size 640x480 with 3 Axes>,\n",
       " {('0', '0'): (0.0,\n",
       "   np.float64(0.0),\n",
       "   0.6114678006614971,\n",
       "   np.float64(0.8064028994261552)),\n",
       "  ('0', '1'): (0.0,\n",
       "   np.float64(0.8097251585623677),\n",
       "   0.6114678006614971,\n",
       "   np.float64(0.19027484143763213)),\n",
       "  ('1', '0'): (0.6164429250396065,\n",
       "   np.float64(0.0),\n",
       "   0.3835570749603936,\n",
       "   np.float64(0.260002888920988)),\n",
       "  ('1', '1'): (0.6164429250396065,\n",
       "   np.float64(0.26332514805720064),\n",
       "   0.3835570749603936,\n",
       "   np.float64(0.7366748519427992))})"
      ]
     },
     "execution_count": 40,
     "metadata": {},
     "output_type": "execute_result"
    },
    {
     "data": {
      "image/png": "[encoded data removed]",
      "text/plain": [
       "<Figure size 640x480 with 3 Axes>"
      ]
     },
     "metadata": {},
     "output_type": "display_data"
    }
   ],
   "source": [
    "from sklearn.metrics import confusion_matrix\n",
    "from statsmodels.graphics.mosaicplot import mosaic\n",
    "from sklearn.metrics import ConfusionMatrixDisplay\n",
    "conf_matrix = confusion_matrix(y_test, y_predicted)\n",
    "mosaic(conf_matrix)"
   ]
  },
  {
   "cell_type": "code",
   "execution_count": 41,
   "id": "e17df5b8-9973-4a9d-8fe5-ab30c8aa7400",
   "metadata": {},
   "outputs": [
    {
     "data": {
      "text/plain": [
       "<sklearn.metrics._plot.confusion_matrix.ConfusionMatrixDisplay at 0x17cd0f83f40>"
      ]
     },
     "execution_count": 41,
     "metadata": {},
     "output_type": "execute_result"
    },
    {
     "data": {
      "image/png": "[encoded data removed]",
      "text/plain": [
       "<Figure size 640x480 with 2 Axes>"
      ]
     },
     "metadata": {},
     "output_type": "display_data"
    }
   ],
   "source": [
    "ConfusionMatrixDisplay.from_estimator(regression, X_test, y_test)"
   ]
  },
  {
   "cell_type": "code",
   "execution_count": 42,
   "id": "2e3e330d-0d64-44b2-add3-a1b2a965375d",
   "metadata": {},
   "outputs": [],
   "source": [
    "# This shows that there are way more true positive and true negative than false positive or negative\n",
    "\n",
    "# If I also want to see the precision and recall, I can use the code we did in class today\n",
    "\n",
    "def precision_and_recall(calc_type:str, tp: int, tn: int,\n",
    "                        fp: int, fn: int) -> float:\n",
    "    if calc_type == \"precision\":\n",
    "        value = tp / (tp + fp)\n",
    "        return value\n",
    "    elif calc_type == \"recall\":\n",
    "        value = tp / (tp + fn) \n",
    "        return value\n",
    "    else:\n",
    "        error_msg = \"Please input correct integers.\"\n",
    "        return error_msg"
   ]
  },
  {
   "cell_type": "code",
   "execution_count": 45,
   "id": "5c2a08f7-73f6-4f57-afa8-06b384b13af0",
   "metadata": {},
   "outputs": [
    {
     "data": {
      "text/plain": [
       "0.8317757009345794"
      ]
     },
     "execution_count": 45,
     "metadata": {},
     "output_type": "execute_result"
    }
   ],
   "source": [
    "precision_and_recall(\"precision\", 89, 51, 21,18)"
   ]
  },
  {
   "cell_type": "code",
   "execution_count": 46,
   "id": "d7813c21-4f3b-4e63-a690-3bfa092c9ee2",
   "metadata": {},
   "outputs": [
    {
     "data": {
      "text/plain": [
       "0.8317757009345794"
      ]
     },
     "execution_count": 46,
     "metadata": {},
     "output_type": "execute_result"
    }
   ],
   "source": [
    "precision_and_recall(\"recall\", 89, 51, 21, 18)"
   ]
  },
  {
   "cell_type": "markdown",
   "id": "bb4af9ba-5355-4fcc-b2f1-cd9257275a50",
   "metadata": {},
   "source": [
    "These both have high scores, above 8. What this means that it is not only\n",
    "giving correct results, but also it's doing that a lot more than the incorrect ones."
   ]
  },
  {
   "cell_type": "code",
   "execution_count": null,
   "id": "96e38509-260f-4c92-9bc2-529b6091c25b",
   "metadata": {},
   "outputs": [],
   "source": []
  }
 ],
 "metadata": {
  "kernelspec": {
   "display_name": "Python 3 (ipykernel)",
   "language": "python",
   "name": "python3"
  },
  "language_info": {
   "codemirror_mode": {
    "name": "ipython",
    "version": 3
   },
   "file_extension": ".py",
   "mimetype": "text/x-python",
   "name": "python",
   "nbconvert_exporter": "python",
   "pygments_lexer": "ipython3",
   "version": "3.10.11"
  }
 },
 "nbformat": 4,
 "nbformat_minor": 5
}
